{
  "nbformat": 4,
  "nbformat_minor": 0,
  "metadata": {
    "colab": {
      "name": "B19EE032_B19EE054.ipynb",
      "provenance": [],
      "collapsed_sections": []
    },
    "kernelspec": {
      "name": "python3",
      "display_name": "Python 3"
    },
    "language_info": {
      "name": "python"
    }
  },
  "cells": [
    {
      "cell_type": "code",
      "metadata": {
        "id": "cHYpH_0AGWp8"
      },
      "source": [
        "import numpy as np\n",
        "import pandas as pd\n",
        "from sklearn.metrics import plot_confusion_matrix"
      ],
      "execution_count": 203,
      "outputs": []
    },
    {
      "cell_type": "code",
      "metadata": {
        "colab": {
          "base_uri": "https://localhost:8080/"
        },
        "id": "opOe_Xq1GkSG",
        "outputId": "9d3abcea-c1d1-4ef8-a743-71418ba41909"
      },
      "source": [
        "from google.colab import drive\n",
        "drive.mount('/content/drive')"
      ],
      "execution_count": 172,
      "outputs": [
        {
          "output_type": "stream",
          "text": [
            "Drive already mounted at /content/drive; to attempt to forcibly remount, call drive.mount(\"/content/drive\", force_remount=True).\n"
          ],
          "name": "stdout"
        }
      ]
    },
    {
      "cell_type": "code",
      "metadata": {
        "id": "4taUZS7oHBjJ"
      },
      "source": [
        "import os,zipfile,cv2\n",
        "file = zipfile.ZipFile('/content/drive/MyDrive/self-built-masked-face-recognition-dataset.zip')\n",
        "file.extractall('.')"
      ],
      "execution_count": 173,
      "outputs": []
    },
    {
      "cell_type": "code",
      "metadata": {
        "id": "_dGuKda8oQdJ"
      },
      "source": [
        "data= []\n",
        "label = []"
      ],
      "execution_count": 174,
      "outputs": []
    },
    {
      "cell_type": "code",
      "metadata": {
        "id": "jsbG7JOSGrWD"
      },
      "source": [
        "k = 0\n",
        "for i in os.listdir('/content/self-built-masked-face-recognition-dataset/AFDB_face_dataset'):\n",
        "        image_path = ('/content/self-built-masked-face-recognition-dataset/AFDB_face_dataset')+'/'+i\n",
        "        for j in os.listdir(image_path):\n",
        "          if k<4000:\n",
        "            image = cv2.imread(image_path+'/'+j)\n",
        "            data.append(cv2.resize(image,(100,100)))\n",
        "            label.append(0)\n",
        "          k+=1\n",
        "\n"
      ],
      "execution_count": 175,
      "outputs": []
    },
    {
      "cell_type": "code",
      "metadata": {
        "id": "X-1G_kd9MPT9"
      },
      "source": [
        "k = 0\n",
        "for i in os.listdir('/content/self-built-masked-face-recognition-dataset/AFDB_masked_face_dataset'):\n",
        "        image_path = ('/content/self-built-masked-face-recognition-dataset/AFDB_masked_face_dataset')+'/'+i\n",
        "        for j in os.listdir(image_path):\n",
        "          if k<4000:\n",
        "            image = cv2.imread(image_path+'/'+j)\n",
        "            data.append(cv2.resize(image,(100,100)))\n",
        "            label.append(1)\n",
        "          k+=1\n"
      ],
      "execution_count": 176,
      "outputs": []
    },
    {
      "cell_type": "code",
      "metadata": {
        "id": "e8VddqpYM4a8"
      },
      "source": [
        "data = np.array(data).reshape(-1,100*100*3)\n",
        "label = np.array(label).reshape(-1,1)"
      ],
      "execution_count": 177,
      "outputs": []
    },
    {
      "cell_type": "code",
      "metadata": {
        "colab": {
          "base_uri": "https://localhost:8080/"
        },
        "id": "AJeXE7xONHw3",
        "outputId": "e6baa25b-ff01-4667-cf9b-3b4becda7872"
      },
      "source": [
        "data.shape"
      ],
      "execution_count": 178,
      "outputs": [
        {
          "output_type": "execute_result",
          "data": {
            "text/plain": [
              "(6203, 30000)"
            ]
          },
          "metadata": {
            "tags": []
          },
          "execution_count": 178
        }
      ]
    },
    {
      "cell_type": "code",
      "metadata": {
        "colab": {
          "base_uri": "https://localhost:8080/"
        },
        "id": "jomYtNfnNL86",
        "outputId": "7ede6b62-67aa-4d4e-c74f-ccf961c45374"
      },
      "source": [
        "label.shape"
      ],
      "execution_count": 179,
      "outputs": [
        {
          "output_type": "execute_result",
          "data": {
            "text/plain": [
              "(6203, 1)"
            ]
          },
          "metadata": {
            "tags": []
          },
          "execution_count": 179
        }
      ]
    },
    {
      "cell_type": "code",
      "metadata": {
        "id": "Ja1YvJzqNgmq"
      },
      "source": [
        "X=pd.DataFrame(data)"
      ],
      "execution_count": 180,
      "outputs": []
    },
    {
      "cell_type": "code",
      "metadata": {
        "id": "IAqFNxwYOoOp"
      },
      "source": [
        "Y = pd.DataFrame(label)"
      ],
      "execution_count": 181,
      "outputs": []
    },
    {
      "cell_type": "code",
      "metadata": {
        "id": "aMHM57hBOzTo"
      },
      "source": [
        "from sklearn.model_selection import train_test_split"
      ],
      "execution_count": 182,
      "outputs": []
    },
    {
      "cell_type": "code",
      "metadata": {
        "id": "VjEFEzF4PV8M"
      },
      "source": [
        "X_train,X_test,Y_train,Y_test = train_test_split(X,Y,test_size=0.5,random_state=42)"
      ],
      "execution_count": 183,
      "outputs": []
    },
    {
      "cell_type": "code",
      "metadata": {
        "colab": {
          "base_uri": "https://localhost:8080/"
        },
        "id": "b5g2fo48q9jy",
        "outputId": "8055772f-29e8-4113-f585-032d28710526"
      },
      "source": [
        "X_train.shape"
      ],
      "execution_count": 184,
      "outputs": [
        {
          "output_type": "execute_result",
          "data": {
            "text/plain": [
              "(3101, 30000)"
            ]
          },
          "metadata": {
            "tags": []
          },
          "execution_count": 184
        }
      ]
    },
    {
      "cell_type": "code",
      "metadata": {
        "colab": {
          "base_uri": "https://localhost:8080/"
        },
        "id": "wInkkh_yqrbb",
        "outputId": "ccb7a481-e1c3-4eaf-8028-6a933feae7a8"
      },
      "source": [
        "X_test.shape"
      ],
      "execution_count": 185,
      "outputs": [
        {
          "output_type": "execute_result",
          "data": {
            "text/plain": [
              "(3102, 30000)"
            ]
          },
          "metadata": {
            "tags": []
          },
          "execution_count": 185
        }
      ]
    },
    {
      "cell_type": "code",
      "metadata": {
        "id": "jdS_5n6FZPKW"
      },
      "source": [
        "from sklearn.preprocessing import StandardScaler\n",
        "sc = StandardScaler()\n",
        "X_train1 = sc.fit_transform(X_train)\n",
        "X_test1 = sc.transform(X_test)"
      ],
      "execution_count": 186,
      "outputs": []
    },
    {
      "cell_type": "code",
      "metadata": {
        "id": "QH41BtWJPWAJ"
      },
      "source": [
        ""
      ],
      "execution_count": 186,
      "outputs": []
    },
    {
      "cell_type": "markdown",
      "metadata": {
        "id": "3qE3btMb3ZLF"
      },
      "source": [
        "Decision tree classifier"
      ]
    },
    {
      "cell_type": "code",
      "metadata": {
        "id": "6gqIaFlJgJgl"
      },
      "source": [
        "from sklearn.tree import DecisionTreeClassifier\n",
        "from sklearn import metrics"
      ],
      "execution_count": 187,
      "outputs": []
    },
    {
      "cell_type": "code",
      "metadata": {
        "colab": {
          "base_uri": "https://localhost:8080/"
        },
        "id": "TXYbuviVneXm",
        "outputId": "12233438-1f26-4086-ed2d-312d279a7786"
      },
      "source": [
        "clf2 = DecisionTreeClassifier()\n",
        "clf2.fit(X_train1,Y_train)"
      ],
      "execution_count": 188,
      "outputs": [
        {
          "output_type": "execute_result",
          "data": {
            "text/plain": [
              "DecisionTreeClassifier(ccp_alpha=0.0, class_weight=None, criterion='gini',\n",
              "                       max_depth=None, max_features=None, max_leaf_nodes=None,\n",
              "                       min_impurity_decrease=0.0, min_impurity_split=None,\n",
              "                       min_samples_leaf=1, min_samples_split=2,\n",
              "                       min_weight_fraction_leaf=0.0, presort='deprecated',\n",
              "                       random_state=None, splitter='best')"
            ]
          },
          "metadata": {
            "tags": []
          },
          "execution_count": 188
        }
      ]
    },
    {
      "cell_type": "code",
      "metadata": {
        "colab": {
          "base_uri": "https://localhost:8080/"
        },
        "id": "9ivZU27VsNGi",
        "outputId": "c4c3823c-5e9a-4ad0-c35d-6dc758536a6a"
      },
      "source": [
        "X_train.shape[1]"
      ],
      "execution_count": 189,
      "outputs": [
        {
          "output_type": "execute_result",
          "data": {
            "text/plain": [
              "30000"
            ]
          },
          "metadata": {
            "tags": []
          },
          "execution_count": 189
        }
      ]
    },
    {
      "cell_type": "code",
      "metadata": {
        "colab": {
          "base_uri": "https://localhost:8080/"
        },
        "id": "rCCNfUCusQ-m",
        "outputId": "40f382d5-d8c6-4a05-fb3f-0b5e53cfd9e3"
      },
      "source": [
        "X_test.shape[1]"
      ],
      "execution_count": 190,
      "outputs": [
        {
          "output_type": "execute_result",
          "data": {
            "text/plain": [
              "30000"
            ]
          },
          "metadata": {
            "tags": []
          },
          "execution_count": 190
        }
      ]
    },
    {
      "cell_type": "code",
      "metadata": {
        "id": "ZIh0cntQnq_a"
      },
      "source": [
        "y_pred2 = clf2.predict(X_test1)"
      ],
      "execution_count": 191,
      "outputs": []
    },
    {
      "cell_type": "code",
      "metadata": {
        "colab": {
          "base_uri": "https://localhost:8080/"
        },
        "id": "_uU651Mpn1VI",
        "outputId": "341180c8-732d-46d8-e696-9e63e889b583"
      },
      "source": [
        "accuracy_decision_tree=metrics.accuracy_score(Y_test,y_pred2)\n",
        "print(accuracy_decision_tree)"
      ],
      "execution_count": 192,
      "outputs": [
        {
          "output_type": "stream",
          "text": [
            "0.8961960025789814\n"
          ],
          "name": "stdout"
        }
      ]
    },
    {
      "cell_type": "code",
      "metadata": {
        "colab": {
          "base_uri": "https://localhost:8080/"
        },
        "id": "q8Z4-ylMtQkq",
        "outputId": "79f6aab5-03c4-4d82-a96c-3554d6b7db48"
      },
      "source": [
        "from sklearn.naive_bayes import GaussianNB\n",
        "gnb = GaussianNB()\n",
        "gnb.fit(X_train, Y_train.values.ravel())"
      ],
      "execution_count": 193,
      "outputs": [
        {
          "output_type": "execute_result",
          "data": {
            "text/plain": [
              "GaussianNB(priors=None, var_smoothing=1e-09)"
            ]
          },
          "metadata": {
            "tags": []
          },
          "execution_count": 193
        }
      ]
    },
    {
      "cell_type": "code",
      "metadata": {
        "id": "7MGgzmxAtqw5"
      },
      "source": [
        "y_pred4 = gnb.predict(X_test)"
      ],
      "execution_count": 194,
      "outputs": []
    },
    {
      "cell_type": "code",
      "metadata": {
        "colab": {
          "base_uri": "https://localhost:8080/"
        },
        "id": "pIZ05olltwHp",
        "outputId": "1649ccb8-8b89-4348-b3e7-8f7165e68dfc"
      },
      "source": [
        "accuracy_naive_gaussian=metrics.accuracy_score(Y_test,y_pred4)\n",
        "print(accuracy_naive_gaussian)"
      ],
      "execution_count": 195,
      "outputs": [
        {
          "output_type": "stream",
          "text": [
            "0.8546099290780141\n"
          ],
          "name": "stdout"
        }
      ]
    },
    {
      "cell_type": "code",
      "metadata": {
        "id": "mnT9ak7r0GgI"
      },
      "source": [
        "from sklearn.linear_model import Perceptron"
      ],
      "execution_count": 196,
      "outputs": []
    },
    {
      "cell_type": "code",
      "metadata": {
        "colab": {
          "base_uri": "https://localhost:8080/"
        },
        "id": "xiKO8Rq20Hhu",
        "outputId": "673a43da-0631-4f36-f954-0e170762830c"
      },
      "source": [
        "per = Perceptron(tol=1e-3, random_state=0)\n",
        "per.fit(X_train,Y_train.values.ravel())"
      ],
      "execution_count": 197,
      "outputs": [
        {
          "output_type": "execute_result",
          "data": {
            "text/plain": [
              "Perceptron(alpha=0.0001, class_weight=None, early_stopping=False, eta0=1.0,\n",
              "           fit_intercept=True, max_iter=1000, n_iter_no_change=5, n_jobs=None,\n",
              "           penalty=None, random_state=0, shuffle=True, tol=0.001,\n",
              "           validation_fraction=0.1, verbose=0, warm_start=False)"
            ]
          },
          "metadata": {
            "tags": []
          },
          "execution_count": 197
        }
      ]
    },
    {
      "cell_type": "code",
      "metadata": {
        "colab": {
          "base_uri": "https://localhost:8080/"
        },
        "id": "RH4TDKpG0cXf",
        "outputId": "e3e1b409-065b-4b66-c026-e03814391b54"
      },
      "source": [
        "Y_pred2  = per.predict(X_test)\n",
        "accuracy_perceptron=metrics.accuracy_score(Y_test,Y_pred2)\n",
        "print(accuracy_perceptron)"
      ],
      "execution_count": 198,
      "outputs": [
        {
          "output_type": "stream",
          "text": [
            "0.9532559638942618\n"
          ],
          "name": "stdout"
        }
      ]
    },
    {
      "cell_type": "code",
      "metadata": {
        "colab": {
          "base_uri": "https://localhost:8080/"
        },
        "id": "4oIJLo-Yt1KR",
        "outputId": "3b822dce-1a41-4642-d9e1-d632ff7fc2cc"
      },
      "source": [
        "from sklearn import svm\n",
        "model = svm.SVC()\n",
        "model.fit(X_train,Y_train.values.ravel())"
      ],
      "execution_count": 199,
      "outputs": [
        {
          "output_type": "execute_result",
          "data": {
            "text/plain": [
              "SVC(C=1.0, break_ties=False, cache_size=200, class_weight=None, coef0=0.0,\n",
              "    decision_function_shape='ovr', degree=3, gamma='scale', kernel='rbf',\n",
              "    max_iter=-1, probability=False, random_state=None, shrinking=True,\n",
              "    tol=0.001, verbose=False)"
            ]
          },
          "metadata": {
            "tags": []
          },
          "execution_count": 199
        }
      ]
    },
    {
      "cell_type": "code",
      "metadata": {
        "id": "n22cqGuBwrYN"
      },
      "source": [
        "Y_pred = model.predict(X_test)\n"
      ],
      "execution_count": 200,
      "outputs": []
    },
    {
      "cell_type": "code",
      "metadata": {
        "colab": {
          "base_uri": "https://localhost:8080/"
        },
        "id": "BMLTtX2Fwy1N",
        "outputId": "bacac669-e0f8-40b0-bcda-5d6a9abff0de"
      },
      "source": [
        "accuracy_svm=metrics.accuracy_score(Y_test,Y_pred)\n",
        "print(accuracy_svm)"
      ],
      "execution_count": 201,
      "outputs": [
        {
          "output_type": "stream",
          "text": [
            "0.9732430689877498\n"
          ],
          "name": "stdout"
        }
      ]
    },
    {
      "cell_type": "code",
      "metadata": {
        "id": "Zzzyz2o7Q6xL"
      },
      "source": [
        "from sklearn.metrics import log_loss"
      ],
      "execution_count": null,
      "outputs": []
    },
    {
      "cell_type": "code",
      "metadata": {
        "colab": {
          "base_uri": "https://localhost:8080/"
        },
        "id": "oDTReWcYSoD3",
        "outputId": "d5e3c630-8319-4367-b853-214663752957"
      },
      "source": [
        "#decision tree\n",
        "metrics.log_loss(Y_test,y_pred2)"
      ],
      "execution_count": 206,
      "outputs": [
        {
          "output_type": "execute_result",
          "data": {
            "text/plain": [
              "3.585301721075362"
            ]
          },
          "metadata": {
            "tags": []
          },
          "execution_count": 206
        }
      ]
    },
    {
      "cell_type": "code",
      "metadata": {
        "colab": {
          "base_uri": "https://localhost:8080/"
        },
        "id": "ZlMp2lj2TEbW",
        "outputId": "63d70eca-7c4a-4df0-fe6f-f798535cc99b"
      },
      "source": [
        "#naive bayes\n",
        "metrics.log_loss(Y_test,y_pred4)"
      ],
      "execution_count": 207,
      "outputs": [
        {
          "output_type": "execute_result",
          "data": {
            "text/plain": [
              "5.021655982945921"
            ]
          },
          "metadata": {
            "tags": []
          },
          "execution_count": 207
        }
      ]
    },
    {
      "cell_type": "code",
      "metadata": {
        "colab": {
          "base_uri": "https://localhost:8080/"
        },
        "id": "46Rm0K9DTO21",
        "outputId": "4be70cc9-15ab-4ec5-c4fc-d19934f445b8"
      },
      "source": [
        "#perceptron\n",
        "metrics.log_loss(Y_test,Y_pred2)"
      ],
      "execution_count": 208,
      "outputs": [
        {
          "output_type": "execute_result",
          "data": {
            "text/plain": [
              "1.61449547257442"
            ]
          },
          "metadata": {
            "tags": []
          },
          "execution_count": 208
        }
      ]
    },
    {
      "cell_type": "code",
      "metadata": {
        "colab": {
          "base_uri": "https://localhost:8080/"
        },
        "id": "zZurrO1fTX-h",
        "outputId": "2bb702af-158a-48c1-a612-f6e7e2ec3cb2"
      },
      "source": [
        "#svm\n",
        "metrics.log_loss(Y_test,Y_pred)"
      ],
      "execution_count": 209,
      "outputs": [
        {
          "output_type": "execute_result",
          "data": {
            "text/plain": [
              "0.9241562970765095"
            ]
          },
          "metadata": {
            "tags": []
          },
          "execution_count": 209
        }
      ]
    },
    {
      "cell_type": "code",
      "metadata": {
        "id": "Q9Qx9sWtREo7"
      },
      "source": [
        "from sklearn.metrics import f1_score"
      ],
      "execution_count": null,
      "outputs": []
    },
    {
      "cell_type": "code",
      "metadata": {
        "colab": {
          "base_uri": "https://localhost:8080/"
        },
        "id": "_Hjc568rTbj5",
        "outputId": "7b8a12f0-bab7-4f66-e485-9dd6e63809f8"
      },
      "source": [
        "#decision tree\n",
        "metrics.f1_score(Y_test,y_pred2)"
      ],
      "execution_count": 211,
      "outputs": [
        {
          "output_type": "execute_result",
          "data": {
            "text/plain": [
              "0.8520220588235293"
            ]
          },
          "metadata": {
            "tags": []
          },
          "execution_count": 211
        }
      ]
    },
    {
      "cell_type": "code",
      "metadata": {
        "colab": {
          "base_uri": "https://localhost:8080/"
        },
        "id": "rR6N9cZ8To0K",
        "outputId": "ff1ca3dc-d6b6-44b8-beb2-9b706c4fc387"
      },
      "source": [
        "#naive bayes\n",
        "metrics.f1_score(Y_test,y_pred4)"
      ],
      "execution_count": 212,
      "outputs": [
        {
          "output_type": "execute_result",
          "data": {
            "text/plain": [
              "0.7967552951780081"
            ]
          },
          "metadata": {
            "tags": []
          },
          "execution_count": 212
        }
      ]
    },
    {
      "cell_type": "code",
      "metadata": {
        "colab": {
          "base_uri": "https://localhost:8080/"
        },
        "id": "Wu51KwaET4_H",
        "outputId": "e70d3ac4-15e5-440c-f219-4428c5afa28b"
      },
      "source": [
        "#perceptron\n",
        "metrics.f1_score(Y_test,Y_pred2)"
      ],
      "execution_count": 213,
      "outputs": [
        {
          "output_type": "execute_result",
          "data": {
            "text/plain": [
              "0.9328392774432608"
            ]
          },
          "metadata": {
            "tags": []
          },
          "execution_count": 213
        }
      ]
    },
    {
      "cell_type": "code",
      "metadata": {
        "colab": {
          "base_uri": "https://localhost:8080/"
        },
        "id": "9gc4tQXRT_Qx",
        "outputId": "8c449a30-201e-4684-9fbe-a13e1c838577"
      },
      "source": [
        "#svm\n",
        "metrics.f1_score(Y_test,Y_pred)"
      ],
      "execution_count": 214,
      "outputs": [
        {
          "output_type": "execute_result",
          "data": {
            "text/plain": [
              "0.9614132961413296"
            ]
          },
          "metadata": {
            "tags": []
          },
          "execution_count": 214
        }
      ]
    },
    {
      "cell_type": "code",
      "metadata": {
        "id": "22GYZeQ_0tuD",
        "colab": {
          "base_uri": "https://localhost:8080/",
          "height": 279
        },
        "outputId": "61df5d22-d61c-439a-b90c-dc8b27d9a9b2"
      },
      "source": [
        "import matplotlib.pyplot as plt\n",
        "import seaborn as sns\n",
        "data = {\n",
        "  \"model\" : ['Linear SVM','Naive-Bayes','Decision Tree','perceptron'] ,\n",
        "  \"accuracies\": [accuracy_svm,accuracy_naive_gaussian,accuracy_decision_tree,accuracy_perceptron]\n",
        "}\n",
        "df=pd.DataFrame(data)\n",
        "plt.figure(figsize=(14,4))\n",
        "sns.lineplot(data=df, x=\"model\", y=\"accuracies\")\n",
        "plt.show()"
      ],
      "execution_count": 202,
      "outputs": [
        {
          "output_type": "display_data",
          "data": {
            "image/png": "[encoded data removed]",
            "text/plain": [
              "<Figure size 1008x288 with 1 Axes>"
            ]
          },
          "metadata": {
            "tags": [],
            "needs_background": "light"
          }
        }
      ]
    },
    {
      "cell_type": "code",
      "metadata": {
        "id": "Md7q34YR4Xhl"
      },
      "source": [
        ""
      ],
      "execution_count": 202,
      "outputs": []
    }
  ]
}